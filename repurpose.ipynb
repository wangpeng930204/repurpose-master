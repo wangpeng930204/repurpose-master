{
 "cells": [
  {
   "cell_type": "markdown",
   "metadata": {
    "deletable": true,
    "editable": true
   },
   "source": [
    "# Repurpose: A Python-based platform for reproducible similarity-based drug repurposing\n",
    "\n",
    "Over the past years many methods for similarity-based (a.k.a. knowledge-based,\n",
    "guilt-by-association-based) drug repurposing, yet most of these studies do not\n",
    "provide the code or the model used in the study. To improve reproducibility,\n",
    "we present a Python-platform offering\n",
    "- drug feature data parsing and similarity calculation\n",
    "- data balancing\n",
    "- (disjoint) cross validation\n",
    "- classifier building\n",
    "\n",
    "Using this platform we investigate the effect using unseen data in the test\n",
    "set in similarity-based classification.\n",
    "\n",
    "\n",
    "## Requiremets\n",
    "The Python platform has the following dependencies:\n",
    "\n",
    "- [Numpy](http://www.numpy.org)\n",
    "- [Scikit-learn](http://scikit-learn.org)\n",
    "\n",
    "\n",
    "## Data sets\n",
    "The data sets used in the analysis are freely available\n",
    "[online](http://astro.temple.edu/~tua87106/drugreposition.html)\n",
    "\n",
    "We have modified these data sets slightly for parsing in Python by\n",
    "- converting all drug, disease and side effect terms to lowercase\n",
    "- removing the quotations and making the text tab delimited\n",
    "- we also added the 'Drug' text to the header\n",
    "\n",
    "These modified files are available under _'data/'_ folder.\n",
    "\n",
    "## Setting up the platform"
   ]
  },
  {
   "cell_type": "code",
   "execution_count": 1,
   "metadata": {
    "collapsed": false,
    "deletable": true,
    "editable": true
   },
   "outputs": [],
   "source": [
    "import random\n",
    "from src import ml, utilities\n",
    "\n",
    "# Get parameters\n",
    "n_seed = 52345\n",
    "random.seed(n_seed) # for reproducibility\n",
    "features = [\"chemical\", \"target\", \"phenotype\"]\n",
    "model_type = \"logistic\" # ML model\n",
    "prediction_type = \"disease\" # predict drug-disease associations\n",
    "output_file = \"data/validation.dat\" # file containing run parameters and corresponding AUC values\n",
    "n_proportion = 2 # proportion of negative instances compared to positives\n",
    "n_subset = -1 # for faster results - subsampling data\n",
    "knn = 20 # number of nearest drugs to check in the pharmacological space to assing a repurposing score\n",
    "n_run = 10 # number of repetitions of cross-validation analysis\n",
    "n_fold = 10 # number of folds in cross-validation\n",
    "recalculate_similarity = True # whether the k-NN based repurposing score should be calculated within the training/test set\n",
    "# whether the drugs in the drug-disease pairs of the cross-validation folds should be non-overlapping disjoint_cv = False \n",
    "disjoint_cv = False \n",
    "\n",
    "# Get data\n",
    "drug_disease_file = \"data/drug_disease.dat\"\n",
    "drug_side_effect_file = \"data/drug_sider.dat\"\n",
    "drug_structure_file = \"data/drug_structure.dat\"\n",
    "drug_target_file = \"data/drug_protein.dat\"\n",
    "data = utilities.get_data(drug_disease_file, drug_side_effect_file, drug_structure_file, drug_target_file)"
   ]
  },
  {
   "cell_type": "markdown",
   "metadata": {
    "deletable": true,
    "editable": true
   },
   "source": [
    "## Evaluating similarity-based drug repurposing via (traditional) cross validation"
   ]
  },
  {
   "cell_type": "code",
   "execution_count": 2,
   "metadata": {
    "collapsed": false,
    "deletable": true,
    "editable": true
   },
   "outputs": [
    {
     "name": "stdout",
     "output_type": "stream",
     "text": [
      "536 drugs, 578 diseases, 309808 pairs, 2229 known associations\n",
      "AUC over runs: 84.1 (+/-0.3): [84.5, 84.4, 84.1, 84.1, 83.8, 84.2, 83.8, 84.3, 83.4, 84.1]\n"
     ]
    },
    {
     "data": {
      "text/plain": [
       "('AUC: 84.1', 'AUPRC: 83.7')"
      ]
     },
     "execution_count": 2,
     "metadata": {},
     "output_type": "execute_result"
    }
   ],
   "source": [
    "n_proportion = 2 # proportion of negative instances compared to positives\n",
    "n_fold = 10 # number of folds in cross-validation\n",
    "\n",
    "# whether the drugs in the drug-disease pairs of the cross-validation folds should be non-overlapping disjoint_cv = False \n",
    "disjoint_cv = False \n",
    "\n",
    "# Check prediction accuracy of ML classifier on the data set using the parameters above\n",
    "ml.check_ml(data, n_run, knn, n_fold, n_proportion, n_subset, model_type, prediction_type, features, recalculate_similarity, disjoint_cv, output_file, model_fun = None, n_seed = n_seed)"
   ]
  },
  {
   "cell_type": "markdown",
   "metadata": {
    "deletable": true,
    "editable": true
   },
   "source": [
    "## Revisiting cross-validation using disjoint folds"
   ]
  },
  {
   "cell_type": "code",
   "execution_count": 3,
   "metadata": {
    "collapsed": false,
    "deletable": true,
    "editable": true,
    "scrolled": true
   },
   "outputs": [
    {
     "name": "stdout",
     "output_type": "stream",
     "text": [
      "536 drugs, 578 diseases, 309808 pairs, 2229 known associations\n",
      "AUC over runs: 65.6 (+/-0.5): [65.5, 65.5, 65.0, 66.1, 65.0, 65.5, 66.1, 65.7, 65.0, 66.4]\n"
     ]
    },
    {
     "data": {
      "text/plain": [
       "('AUC: 65.6', 'AUPRC: 62.8')"
      ]
     },
     "execution_count": 3,
     "metadata": {},
     "output_type": "execute_result"
    }
   ],
   "source": [
    "# whether the drugs in the drug-disease pairs of the cross-validation folds should be non-overlapping disjoint_cv = False \n",
    "disjoint_cv = True\n",
    "\n",
    "# Check prediction accuracy of ML classifier on the data set using the parameters above\n",
    "ml.check_ml(data, n_run, knn, n_fold, n_proportion, n_subset, model_type, prediction_type, features, recalculate_similarity, disjoint_cv, output_file, model_fun = None, n_seed = n_seed)"
   ]
  },
  {
   "cell_type": "markdown",
   "metadata": {
    "deletable": true,
    "editable": true
   },
   "source": [
    "## Evaluating the effect of data imbalance"
   ]
  },
  {
   "cell_type": "code",
   "execution_count": 4,
   "metadata": {
    "collapsed": false,
    "deletable": true,
    "editable": true
   },
   "outputs": [
    {
     "name": "stdout",
     "output_type": "stream",
     "text": [
      "1\n",
      "536 drugs, 578 diseases, 309808 pairs, 2229 known associations\n",
      "AUC over runs: 65.8 (+/-0.5): [65.6, 65.6, 65.5, 65.8, 65.5, 65.6, 65.8, 65.4, 65.5, 67.2]\n",
      "2\n",
      "536 drugs, 578 diseases, 309808 pairs, 2229 known associations\n",
      "AUC over runs: 65.6 (+/-0.5): [65.5, 65.5, 65.0, 66.1, 65.0, 65.5, 66.1, 65.7, 65.0, 66.4]\n",
      "5\n",
      "536 drugs, 578 diseases, 309808 pairs, 2229 known associations\n",
      "AUC over runs: 67.8 (+/-0.7): [67.8, 67.8, 67.0, 69.0, 67.0, 67.8, 69.0, 67.7, 67.0, 68.2]\n",
      "20\n",
      "536 drugs, 578 diseases, 309808 pairs, 2229 known associations\n",
      "AUC over runs: 68.9 (+/-0.5): [68.6, 68.6, 68.5, 69.8, 68.5, 68.6, 69.8, 68.6, 68.5, 69.1]\n"
     ]
    }
   ],
   "source": [
    "# proportion of negative instances compared to positives\n",
    "for n_proportion in [ 1, 2, 5, 20 ]: \n",
    "    print n_proportion\n",
    "    # Check prediction accuracy of ML classifier on the data set using the parameters above\n",
    "    ml.check_ml(data, n_run, knn, n_fold, n_proportion, n_subset, model_type, prediction_type, features, recalculate_similarity, disjoint_cv, output_file, model_fun = None, n_seed = n_seed)"
   ]
  },
  {
   "cell_type": "markdown",
   "metadata": {
    "deletable": true,
    "editable": true
   },
   "source": [
    "## Evaluating the effect of number of folds in cross validation"
   ]
  },
  {
   "cell_type": "code",
   "execution_count": 5,
   "metadata": {
    "collapsed": false,
    "deletable": true,
    "editable": true
   },
   "outputs": [
    {
     "name": "stdout",
     "output_type": "stream",
     "text": [
      "2\n",
      "536 drugs, 578 diseases, 309808 pairs, 2229 known associations\n",
      "AUC over runs: 80.7 (+/-0.3): [80.6, 80.6, 80.6, 80.6, 80.6, 80.6, 80.6, 81.4, 80.6, 81.4]\n",
      "5\n",
      "536 drugs, 578 diseases, 309808 pairs, 2229 known associations\n",
      "AUC over runs: 73.6 (+/-0.7): [72.6, 72.6, 74.0, 74.1, 74.0, 72.6, 74.1, 74.1, 74.0, 74.0]\n",
      "10\n",
      "536 drugs, 578 diseases, 309808 pairs, 2229 known associations\n",
      "AUC over runs: 65.6 (+/-0.5): [65.5, 65.5, 65.0, 66.1, 65.0, 65.5, 66.1, 65.7, 65.0, 66.4]\n",
      "20\n",
      "536 drugs, 578 diseases, 309808 pairs, 2229 known associations\n",
      "AUC over runs: 59.1 (+/-0.6): [58.5, 58.5, 59.1, 60.1, 59.0, 58.5, 60.1, 59.1, 59.1, 59.6]\n"
     ]
    }
   ],
   "source": [
    "n_proportion = 2 # proportion of negative instances compared to positives\n",
    "\n",
    "# number of folds in cross-validation\n",
    "for n_fold in [ 2, 5, 10, 20 ]: \n",
    "    print n_fold\n",
    "    # Check prediction accuracy of ML classifier on the data set using the parameters above\n",
    "    # Use verbose argument for per cross-validation metrics\n",
    "    ml.check_ml(data, n_run, knn, n_fold, n_proportion, n_subset, model_type, prediction_type, features, recalculate_similarity, disjoint_cv, output_file, model_fun = None, verbose = False, n_seed = n_seed)\n"
   ]
  },
  {
   "cell_type": "markdown",
   "metadata": {
    "deletable": true,
    "editable": true
   },
   "source": [
    "## Evaluating the effect of each feature in prediction performance"
   ]
  },
  {
   "cell_type": "code",
   "execution_count": 6,
   "metadata": {
    "collapsed": false,
    "deletable": true,
    "editable": true
   },
   "outputs": [
    {
     "name": "stdout",
     "output_type": "stream",
     "text": [
      "chemical\n",
      "536 drugs, 578 diseases, 309808 pairs, 2229 known associations\n",
      "AUC over runs: 62.0 (+/-0.6): [61.4, 61.4, 61.7, 62.6, 61.7, 61.4, 62.6, 62.5, 61.7, 63.2]\n",
      "target\n",
      "536 drugs, 578 diseases, 309808 pairs, 2229 known associations\n",
      "AUC over runs: 60.7 (+/-0.9): [61.0, 61.0, 61.7, 59.7, 61.7, 61.0, 59.7, 59.3, 61.7, 60.3]\n",
      "phenotype\n",
      "536 drugs, 578 diseases, 309808 pairs, 2229 known associations\n",
      "AUC over runs: 64.7 (+/-0.4): [64.6, 64.6, 64.4, 65.4, 64.4, 64.6, 65.4, 64.4, 64.4, 65.4]\n"
     ]
    }
   ],
   "source": [
    "n_fold = 10 # number of folds in cross-validation\n",
    "features = [\"chemical\", \"target\", \"phenotype\"]\n",
    "\n",
    "for feature in features:\n",
    "    features_modified = [ feature ]\n",
    "    print feature\n",
    "    # Check prediction accuracy of ML classifier on the data set using the parameters above\n",
    "    ml.check_ml(data, n_run, knn, n_fold, n_proportion, n_subset, model_type, prediction_type, features_modified, recalculate_similarity, disjoint_cv, output_file, model_fun = None, n_seed = n_seed)"
   ]
  },
  {
   "cell_type": "code",
   "execution_count": null,
   "metadata": {
    "collapsed": true,
    "deletable": true,
    "editable": true
   },
   "outputs": [],
   "source": []
  }
 ],
 "metadata": {
  "kernelspec": {
   "display_name": "Python 2",
   "language": "python",
   "name": "python2"
  },
  "language_info": {
   "codemirror_mode": {
    "name": "ipython",
    "version": 2
   },
   "file_extension": ".py",
   "mimetype": "text/x-python",
   "name": "python",
   "nbconvert_exporter": "python",
   "pygments_lexer": "ipython2",
   "version": "2.7.11"
  }
 },
 "nbformat": 4,
 "nbformat_minor": 0
}

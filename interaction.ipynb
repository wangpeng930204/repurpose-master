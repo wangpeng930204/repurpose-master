{
 "cells": [
  {
   "cell_type": "code",
   "execution_count": null,
   "metadata": {
    "collapsed": true,
    "deletable": true,
    "editable": true
   },
   "outputs": [],
   "source": [
    "# Similarity based drug-drug interaction prediction using Reporpose\n",
    "\n",
    "See [Repurpose](https://github.com/emreg00/repurpose) for the python platform\n",
    "\n",
    "\n",
    "## Data sets\n",
    "The data sets used in the analysis are freely available\n",
    "[online](http://astro.temple.edu/~tua87106/drugreposition.html)\n",
    "\n",
    "We have modified these data sets slightly for parsing in Python by\n",
    "- converting all drug, disease and side effect terms to lowercase\n",
    "- removing the quotations and making the text tab delimited\n",
    "- we also added the 'Drug' text to the header\n",
    "\n",
    "The drug-drug interaction data was retrieved from DrugBank (v4.5.0). \n",
    "Drug names for the drugs in the data set were matched with names and \n",
    "synonyms provided in DrugBank. \n",
    "\n",
    "These modified files are available under _'data/'_ folder.\n",
    "\n",
    "## Setting up the platform"
   ]
  },
  {
   "cell_type": "code",
   "execution_count": 2,
   "metadata": {
    "collapsed": false,
    "deletable": true,
    "editable": true
   },
   "outputs": [],
   "source": [
    "import random\n",
    "from src import ml, utilities\n",
    "\n",
    "# Get parameters\n",
    "n_seed = 52345\n",
    "random.seed(n_seed) # for reproducibility\n",
    "features = [\"chemical\", \"target\", \"phenotype\"]\n",
    "model_type = \"logistic\" # ML model\n",
    "prediction_type = \"drug interaction\" # predict drug-drug interactions\n",
    "output_file = \"data/validation_ddi.dat\" # file containing run parameters and corresponding AUC values\n",
    "n_proportion = 2 # proportion of negative instances compared to positives\n",
    "n_subset = -1 # for faster results - subsampling data\n",
    "knn = 20 # number of nearest drugs to check in the pharmacological space to assing a repurposing score\n",
    "n_run = 10 # number of repetitions of cross-validation analysis\n",
    "n_fold = 10 # number of folds in cross-validation\n",
    "recalculate_similarity = True # whether the k-NN based repurposing score should be calculated within the training/test set\n",
    "# whether the drugs in the drug-disease pairs of the cross-validation folds should be non-overlapping disjoint_cv = False \n",
    "disjoint_cv = False \n",
    "\n",
    "# Get data\n",
    "drug_disease_file = \"data/drug_disease.dat\"\n",
    "drug_side_effect_file = \"data/drug_sider.dat\"\n",
    "drug_structure_file = \"data/drug_structure.dat\"\n",
    "drug_target_file = \"data/drug_protein.dat\"\n",
    "drug_interaction_file = \"data/drug_drug.dat\"\n",
    "data = utilities.get_data(drug_disease_file, drug_side_effect_file, drug_structure_file, drug_target_file, drug_interaction_file)"
   ]
  },
  {
   "cell_type": "markdown",
   "metadata": {
    "deletable": true,
    "editable": true
   },
   "source": [
    "## Evaluating the effect of sample size in (traditional) cross validation"
   ]
  },
  {
   "cell_type": "code",
   "execution_count": 3,
   "metadata": {
    "collapsed": false,
    "deletable": true,
    "editable": true
   },
   "outputs": [],
   "source": [
    "# whether the drugs in the drug-disease pairs of the cross-validation folds should be non-overlapping disjoint_cv = False \n",
    "disjoint_cv = False\n",
    "# number of folds in cross-validation\n",
    "n_fold = 10"
   ]
  },
  {
   "cell_type": "code",
   "execution_count": 4,
   "metadata": {
    "collapsed": false,
    "deletable": true,
    "editable": true
   },
   "outputs": [
    {
     "name": "stdout",
     "output_type": "stream",
     "text": [
      "536 drugs, 764 diseases, 370540 pairs, 26484 known associations\n",
      "AUC over runs: 83.7 (+/-0.3): [84.2, 83.6, 83.1, 83.7, 83.9, 84.0, 83.2, 84.0, 83.4, 83.6]\n"
     ]
    },
    {
     "data": {
      "text/plain": [
       "('AUC: 83.7', 'AUPRC: 76.5')"
      ]
     },
     "execution_count": 4,
     "metadata": {},
     "output_type": "execute_result"
    }
   ],
   "source": [
    "n_subset = 1000 # for faster results - subsampling data\n",
    "# Check prediction accuracy of ML classifier on the data set using the parameters above\n",
    "ml.check_ml(data, n_run, knn, n_fold, n_proportion, n_subset, model_type, prediction_type, features, recalculate_similarity, disjoint_cv, output_file, model_fun = None, n_seed = n_seed)"
   ]
  },
  {
   "cell_type": "code",
   "execution_count": 5,
   "metadata": {
    "collapsed": false,
    "deletable": true,
    "editable": true
   },
   "outputs": [
    {
     "name": "stdout",
     "output_type": "stream",
     "text": [
      "536 drugs, 764 diseases, 370540 pairs, 26484 known associations\n",
      "AUC over runs: 86.1 (+/-0.2): [86.3, 86.3, 86.2, 86.1, 85.7, 86.2, 86.0, 86.3, 86.0, 86.1]\n"
     ]
    },
    {
     "data": {
      "text/plain": [
       "('AUC: 86.1', 'AUPRC: 79.4')"
      ]
     },
     "execution_count": 5,
     "metadata": {},
     "output_type": "execute_result"
    }
   ],
   "source": [
    "n_subset = 2000 # for faster results - subsampling data\n",
    "# Check prediction accuracy of ML classifier on the data set using the parameters above\n",
    "ml.check_ml(data, n_run, knn, n_fold, n_proportion, n_subset, model_type, prediction_type, features, recalculate_similarity, disjoint_cv, output_file, model_fun = None, n_seed = n_seed)"
   ]
  },
  {
   "cell_type": "code",
   "execution_count": 6,
   "metadata": {
    "collapsed": false,
    "deletable": true,
    "editable": true
   },
   "outputs": [
    {
     "name": "stdout",
     "output_type": "stream",
     "text": [
      "536 drugs, 764 diseases, 370540 pairs, 26484 known associations\n",
      "AUC over runs: 87.4 (+/-0.1): [87.4, 87.3, 87.7, 87.4, 87.2, 87.4, 87.5, 87.5, 87.3, 87.5]\n"
     ]
    },
    {
     "data": {
      "text/plain": [
       "('AUC: 87.4', 'AUPRC: 81.7')"
      ]
     },
     "execution_count": 6,
     "metadata": {},
     "output_type": "execute_result"
    }
   ],
   "source": [
    "n_subset = 5000 # for faster results - subsampling data\n",
    "# Check prediction accuracy of ML classifier on the data set using the parameters above\n",
    "ml.check_ml(data, n_run, knn, n_fold, n_proportion, n_subset, model_type, prediction_type, features, recalculate_similarity, disjoint_cv, output_file, model_fun = None, n_seed = n_seed)"
   ]
  },
  {
   "cell_type": "code",
   "execution_count": 7,
   "metadata": {
    "collapsed": false,
    "deletable": true,
    "editable": true
   },
   "outputs": [
    {
     "name": "stdout",
     "output_type": "stream",
     "text": [
      "536 drugs, 764 diseases, 370540 pairs, 26484 known associations\n",
      "AUC over runs: 87.1 (+/-0.1): [87.0, 87.0, 87.3, 87.2, 86.9, 87.1, 87.2, 87.3, 87.0, 87.3]\n"
     ]
    },
    {
     "data": {
      "text/plain": [
       "('AUC: 87.1', 'AUPRC: 81.1')"
      ]
     },
     "execution_count": 7,
     "metadata": {},
     "output_type": "execute_result"
    }
   ],
   "source": [
    "n_subset = 10000 # for faster results - subsampling data\n",
    "# Check prediction accuracy of ML classifier on the data set using the parameters above\n",
    "ml.check_ml(data, n_run, knn, n_fold, n_proportion, n_subset, model_type, prediction_type, features, recalculate_similarity, disjoint_cv, output_file, model_fun = None, n_seed = n_seed)"
   ]
  },
  {
   "cell_type": "markdown",
   "metadata": {
    "deletable": true,
    "editable": true
   },
   "source": [
    "## Evaluating the effect of sample size in disjoint cross validation"
   ]
  },
  {
   "cell_type": "code",
   "execution_count": 8,
   "metadata": {
    "collapsed": false,
    "deletable": true,
    "editable": true,
    "scrolled": true
   },
   "outputs": [],
   "source": [
    "# whether the drugs in the drug-disease pairs of the cross-validation folds should be non-overlapping disjoint_cv = False \n",
    "disjoint_cv = True"
   ]
  },
  {
   "cell_type": "code",
   "execution_count": 9,
   "metadata": {
    "collapsed": false,
    "deletable": true,
    "editable": true
   },
   "outputs": [
    {
     "name": "stdout",
     "output_type": "stream",
     "text": [
      "536 drugs, 764 diseases, 370540 pairs, 26484 known associations\n",
      "AUC over runs: 77.7 (+/-0.8): [78.1, 79.4, 77.3, 77.4, 77.7, 77.9, 78.2, 77.1, 78.0, 76.2]\n"
     ]
    },
    {
     "data": {
      "text/plain": [
       "('AUC: 77.7', 'AUPRC: 66.7')"
      ]
     },
     "execution_count": 9,
     "metadata": {},
     "output_type": "execute_result"
    }
   ],
   "source": [
    "n_subset = 1000 # for faster results - subsampling data\n",
    "# Check prediction accuracy of ML classifier on the data set using the parameters above\n",
    "ml.check_ml(data, n_run, knn, n_fold, n_proportion, n_subset, model_type, prediction_type, features, recalculate_similarity, disjoint_cv, output_file, model_fun = None, n_seed = n_seed)"
   ]
  },
  {
   "cell_type": "code",
   "execution_count": 10,
   "metadata": {
    "collapsed": false,
    "deletable": true,
    "editable": true
   },
   "outputs": [
    {
     "name": "stdout",
     "output_type": "stream",
     "text": [
      "536 drugs, 764 diseases, 370540 pairs, 26484 known associations\n",
      "AUC over runs: 77.2 (+/-0.7): [77.8, 78.4, 77.3, 77.0, 77.4, 77.1, 76.1, 76.6, 76.8, 78.0]\n"
     ]
    },
    {
     "data": {
      "text/plain": [
       "('AUC: 77.2', 'AUPRC: 65.9')"
      ]
     },
     "execution_count": 10,
     "metadata": {},
     "output_type": "execute_result"
    }
   ],
   "source": [
    "n_subset = 5000 # for faster results - subsampling data\n",
    "# Check prediction accuracy of ML classifier on the data set using the parameters above\n",
    "ml.check_ml(data, n_run, knn, n_fold, n_proportion, n_subset, model_type, prediction_type, features, recalculate_similarity, disjoint_cv, output_file, model_fun = None, n_seed = n_seed)"
   ]
  },
  {
   "cell_type": "code",
   "execution_count": 11,
   "metadata": {
    "collapsed": false,
    "deletable": true,
    "editable": true
   },
   "outputs": [
    {
     "name": "stdout",
     "output_type": "stream",
     "text": [
      "536 drugs, 764 diseases, 370540 pairs, 26484 known associations\n",
      "AUC over runs: 77.3 (+/-0.4): [77.5, 77.7, 77.8, 76.8, 77.3, 77.9, 76.7, 76.8, 76.9, 77.4]\n"
     ]
    },
    {
     "data": {
      "text/plain": [
       "('AUC: 77.3', 'AUPRC: 65.9')"
      ]
     },
     "execution_count": 11,
     "metadata": {},
     "output_type": "execute_result"
    }
   ],
   "source": [
    "n_subset = 10000 # for faster results - subsampling data\n",
    "# Check prediction accuracy of ML classifier on the data set using the parameters above\n",
    "ml.check_ml(data, n_run, knn, n_fold, n_proportion, n_subset, model_type, prediction_type, features, recalculate_similarity, disjoint_cv, output_file, model_fun = None, n_seed = n_seed)"
   ]
  },
  {
   "cell_type": "markdown",
   "metadata": {
    "deletable": true,
    "editable": true
   },
   "source": [
    "## Evaluating the effect of number of cross-validation folds"
   ]
  },
  {
   "cell_type": "code",
   "execution_count": 12,
   "metadata": {
    "collapsed": false,
    "deletable": true,
    "editable": true
   },
   "outputs": [
    {
     "name": "stdout",
     "output_type": "stream",
     "text": [
      "536 drugs, 764 diseases, 370540 pairs, 26484 known associations\n",
      "AUC over runs: 84.9 (+/-0.7): [84.4, 83.9, 86.2, 84.5, 84.7, 84.4, 85.1, 84.6, 85.8, 85.5]\n"
     ]
    },
    {
     "data": {
      "text/plain": [
       "('AUC: 84.9', 'AUPRC: 77.5')"
      ]
     },
     "execution_count": 12,
     "metadata": {},
     "output_type": "execute_result"
    }
   ],
   "source": [
    "# number of folds in cross-validation\n",
    "n_fold = 2 \n",
    "n_subset = 1000 # for faster results - subsampling data\n",
    "# Check prediction accuracy of ML classifier on the data set using the parameters above\n",
    "ml.check_ml(data, n_run, knn, n_fold, n_proportion, n_subset, model_type, prediction_type, features, recalculate_similarity, disjoint_cv, output_file, model_fun = None, n_seed = n_seed)"
   ]
  },
  {
   "cell_type": "code",
   "execution_count": 13,
   "metadata": {
    "collapsed": false,
    "deletable": true,
    "editable": true
   },
   "outputs": [
    {
     "name": "stdout",
     "output_type": "stream",
     "text": [
      "536 drugs, 764 diseases, 370540 pairs, 26484 known associations\n",
      "AUC over runs: 84.9 (+/-0.4): [84.9, 84.8, 84.5, 84.6, 84.9, 85.3, 85.5, 84.8, 85.3, 84.3]\n"
     ]
    },
    {
     "data": {
      "text/plain": [
       "('AUC: 84.9', 'AUPRC: 77.7')"
      ]
     },
     "execution_count": 13,
     "metadata": {},
     "output_type": "execute_result"
    }
   ],
   "source": [
    "# number of folds in cross-validation\n",
    "n_fold = 2 \n",
    "n_subset = 5000 # for faster results - subsampling data\n",
    "# Check prediction accuracy of ML classifier on the data set using the parameters above\n",
    "ml.check_ml(data, n_run, knn, n_fold, n_proportion, n_subset, model_type, prediction_type, features, recalculate_similarity, disjoint_cv, output_file, model_fun = None, n_seed = n_seed)"
   ]
  },
  {
   "cell_type": "code",
   "execution_count": 14,
   "metadata": {
    "collapsed": false,
    "deletable": true,
    "editable": true
   },
   "outputs": [
    {
     "name": "stdout",
     "output_type": "stream",
     "text": [
      "536 drugs, 764 diseases, 370540 pairs, 26484 known associations\n",
      "AUC over runs: 85.0 (+/-0.4): [85.5, 84.7, 85.0, 85.2, 85.1, 84.9, 85.4, 84.3, 85.4, 84.8]\n"
     ]
    },
    {
     "data": {
      "text/plain": [
       "('AUC: 85.0', 'AUPRC: 77.7')"
      ]
     },
     "execution_count": 14,
     "metadata": {},
     "output_type": "execute_result"
    }
   ],
   "source": [
    "# number of folds in cross-validation\n",
    "n_fold = 2 \n",
    "n_subset = 10000 # for faster results - subsampling data\n",
    "# Check prediction accuracy of ML classifier on the data set using the parameters above\n",
    "ml.check_ml(data, n_run, knn, n_fold, n_proportion, n_subset, model_type, prediction_type, features, recalculate_similarity, disjoint_cv, output_file, model_fun = None, n_seed = n_seed)"
   ]
  },
  {
   "cell_type": "markdown",
   "metadata": {
    "deletable": true,
    "editable": true
   },
   "source": [
    "## Evaluating the effect of each feature in prediction performance"
   ]
  },
  {
   "cell_type": "code",
   "execution_count": 15,
   "metadata": {
    "collapsed": false,
    "deletable": true,
    "editable": true
   },
   "outputs": [
    {
     "name": "stdout",
     "output_type": "stream",
     "text": [
      "chemical\n",
      "536 drugs, 764 diseases, 370540 pairs, 26484 known associations\n",
      "AUC over runs: 78.4 (+/-0.7): [78.3, 77.9, 79.2, 78.5, 79.2, 77.5, 77.3, 78.7, 78.3, 79.5]\n",
      "target\n",
      "536 drugs, 764 diseases, 370540 pairs, 26484 known associations\n",
      "AUC over runs: 74.4 (+/-1.1): [73.2, 72.9, 75.3, 75.5, 74.8, 73.8, 75.3, 72.6, 75.6, 74.5]\n",
      "phenotype\n",
      "536 drugs, 764 diseases, 370540 pairs, 26484 known associations\n",
      "AUC over runs: 80.8 (+/-0.7): [81.0, 80.3, 81.4, 80.3, 79.9, 80.5, 81.3, 80.1, 81.8, 81.7]\n"
     ]
    }
   ],
   "source": [
    "n_fold = 2 # number of folds in cross-validation\n",
    "n_subset = 1000 # for faster results - subsampling data\n",
    "\n",
    "features = [\"chemical\", \"target\", \"phenotype\"]\n",
    "\n",
    "for feature in features:\n",
    "    features_modified = [ feature ]\n",
    "    print feature\n",
    "    # Check prediction accuracy of ML classifier on the data set using the parameters above\n",
    "    ml.check_ml(data, n_run, knn, n_fold, n_proportion, n_subset, model_type, prediction_type, features_modified, recalculate_similarity, disjoint_cv, output_file, model_fun = None, n_seed = n_seed)"
   ]
  },
  {
   "cell_type": "code",
   "execution_count": 16,
   "metadata": {
    "collapsed": false,
    "deletable": true,
    "editable": true
   },
   "outputs": [
    {
     "name": "stdout",
     "output_type": "stream",
     "text": [
      "chemical\n",
      "536 drugs, 764 diseases, 370540 pairs, 26484 known associations\n",
      "AUC over runs: 78.7 (+/-0.3): [79.0, 78.5, 78.5, 78.8, 78.7, 78.6, 78.8, 78.0, 79.1, 79.0]\n",
      "target\n",
      "536 drugs, 764 diseases, 370540 pairs, 26484 known associations\n",
      "AUC over runs: 74.1 (+/-0.4): [74.7, 73.6, 74.1, 74.6, 74.4, 74.2, 74.2, 73.6, 74.4, 73.5]\n",
      "phenotype\n",
      "536 drugs, 764 diseases, 370540 pairs, 26484 known associations\n",
      "AUC over runs: 81.1 (+/-0.4): [81.7, 80.7, 81.1, 81.4, 81.3, 80.8, 81.5, 80.1, 81.3, 80.7]\n"
     ]
    }
   ],
   "source": [
    "n_fold = 2 # number of folds in cross-validation\n",
    "n_subset = 10000 # for faster results - subsampling data\n",
    "\n",
    "features = [\"chemical\", \"target\", \"phenotype\"]\n",
    "\n",
    "for feature in features:\n",
    "    features_modified = [ feature ]\n",
    "    print feature\n",
    "    # Check prediction accuracy of ML classifier on the data set using the parameters above\n",
    "    ml.check_ml(data, n_run, knn, n_fold, n_proportion, n_subset, model_type, prediction_type, features_modified, recalculate_similarity, disjoint_cv, output_file, model_fun = None, n_seed = n_seed)"
   ]
  },
  {
   "cell_type": "code",
   "execution_count": 17,
   "metadata": {
    "collapsed": false,
    "deletable": true,
    "editable": true
   },
   "outputs": [
    {
     "name": "stdout",
     "output_type": "stream",
     "text": [
      "chemical\n",
      "536 drugs, 764 diseases, 370540 pairs, 26484 known associations\n",
      "AUC over runs: 73.2 (+/-0.3): [73.2, 73.4, 73.4, 73.5, 73.3, 73.6, 73.3, 72.8, 72.6, 73.1]\n",
      "target\n",
      "536 drugs, 764 diseases, 370540 pairs, 26484 known associations\n",
      "AUC over runs: 58.8 (+/-0.8): [59.9, 59.4, 59.3, 57.3, 59.2, 59.3, 58.0, 58.7, 58.8, 57.7]\n",
      "phenotype\n",
      "536 drugs, 764 diseases, 370540 pairs, 26484 known associations\n",
      "AUC over runs: 75.1 (+/-0.5): [75.5, 75.6, 75.6, 74.6, 75.1, 75.8, 74.5, 74.5, 74.9, 75.4]\n"
     ]
    }
   ],
   "source": [
    "n_fold = 10 # number of folds in cross-validation\n",
    "n_subset = 10000 # for faster results - subsampling data\n",
    "\n",
    "features = [\"chemical\", \"target\", \"phenotype\"]\n",
    "\n",
    "for feature in features:\n",
    "    features_modified = [ feature ]\n",
    "    print feature\n",
    "    # Check prediction accuracy of ML classifier on the data set using the parameters above\n",
    "    ml.check_ml(data, n_run, knn, n_fold, n_proportion, n_subset, model_type, prediction_type, features_modified, recalculate_similarity, disjoint_cv, output_file, model_fun = None, n_seed = n_seed)"
   ]
  },
  {
   "cell_type": "markdown",
   "metadata": {
    "collapsed": true,
    "deletable": true,
    "editable": true
   },
   "source": [
    "## Evaluating the effect of sample size in pairwise disjoint cross validation"
   ]
  },
  {
   "cell_type": "code",
   "execution_count": 25,
   "metadata": {
    "collapsed": false,
    "deletable": true,
    "editable": true
   },
   "outputs": [
    {
     "name": "stdout",
     "output_type": "stream",
     "text": [
      "536 drugs, 764 diseases, 370540 pairs, 26484 known associations\n",
      "AUC over runs: 76.9 (+/-1.0): [76.3, 76.6, 75.8, 78.0, 77.5, 76.3, 79.1, 75.9, 76.9, 77.0]\n"
     ]
    },
    {
     "data": {
      "text/plain": [
       "('AUC: 76.9', 'AUPRC: 65.5')"
      ]
     },
     "execution_count": 25,
     "metadata": {},
     "output_type": "execute_result"
    }
   ],
   "source": [
    "utilities = reload(utilities)\n",
    "ml = reload(ml)\n",
    "n_run = 10\n",
    "n_proportion = 2\n",
    "features = [\"chemical\", \"target\", \"phenotype\"]\n",
    "# whether none of the drugs in the drug-drug pairs of the cross-validation folds should be non-overlapping with drugs in other folds\n",
    "disjoint_cv = True\n",
    "pairwise_disjoint = True\n",
    "n_fold = 10 # number of folds in cross-validation\n",
    "\n",
    "n_subset = 1000 # for faster results - subsampling data\n",
    "# Check prediction accuracy of ML classifier on the data set using the parameters above\n",
    "ml.check_ml(data, n_run, knn, n_fold, n_proportion, n_subset, model_type, prediction_type, features, recalculate_similarity, disjoint_cv, pairwise_disjoint, output_file, model_fun = None, n_seed = n_seed)"
   ]
  },
  {
   "cell_type": "code",
   "execution_count": null,
   "metadata": {
    "collapsed": true,
    "deletable": true,
    "editable": true
   },
   "outputs": [],
   "source": []
  }
 ],
 "metadata": {
  "kernelspec": {
   "display_name": "Python 2",
   "language": "python",
   "name": "python2"
  },
  "language_info": {
   "codemirror_mode": {
    "name": "ipython",
    "version": 2
   },
   "file_extension": ".py",
   "mimetype": "text/x-python",
   "name": "python",
   "nbconvert_exporter": "python",
   "pygments_lexer": "ipython2",
   "version": "2.7.11"
  }
 },
 "nbformat": 4,
 "nbformat_minor": 0
}
